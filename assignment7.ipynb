{
  "nbformat": 4,
  "nbformat_minor": 0,
  "metadata": {
    "colab": {
      "provenance": [],
      "authorship_tag": "ABX9TyOYC0NIpiak9x8nmdL5rPcF",
      "include_colab_link": true
    },
    "kernelspec": {
      "name": "python3",
      "display_name": "Python 3"
    },
    "language_info": {
      "name": "python"
    }
  },
  "cells": [
    {
      "cell_type": "markdown",
      "metadata": {
        "id": "view-in-github",
        "colab_type": "text"
      },
      "source": [
        "<a href=\"https://colab.research.google.com/github/MANUSHREE-20/daily-assignment/blob/main/assignment7.ipynb\" target=\"_parent\"><img src=\"https://colab.research.google.com/assets/colab-badge.svg\" alt=\"Open In Colab\"/></a>"
      ]
    },
    {
      "cell_type": "code",
      "source": [
        "import pandas as pd\n",
        "import numpy as np\n",
        "from sklearn.model_selection import train_test_split, GridSearchCV\n",
        "from sklearn.ensemble import RandomForestRegressor\n",
        "from sklearn.linear_model import LinearRegression, Ridge, Lasso\n",
        "from sklearn.metrics import mean_squared_error, mean_absolute_error, r2_score"
      ],
      "metadata": {
        "id": "ZLC1fu-2RIoS"
      },
      "execution_count": 4,
      "outputs": []
    },
    {
      "cell_type": "code",
      "source": [
        "# Load CSV from GitHub\n",
        "url = \"https://raw.githubusercontent.com/VijayDwivedi-ml/Machine-Learning-in-10-Days-with-projects/main/Day_4_Supervised_Learning_Regression/lab/USA_Housing_toy.csv\"\n",
        "\n",
        "df = pd.read_csv(url)\n",
        "\n",
        "# Drop 'Address' (not useful for regression)\n",
        "df.drop('Address', axis=1, inplace=True)\n",
        "\n",
        "# Features & target\n",
        "X = df.drop('Price', axis=1)\n",
        "y = df['Price']\n"
      ],
      "metadata": {
        "id": "MWuaQ7evRK9l"
      },
      "execution_count": 5,
      "outputs": []
    },
    {
      "cell_type": "code",
      "source": [
        "X_train, X_test, y_train, y_test = train_test_split(X, y, test_size=0.2, random_state=42)\n"
      ],
      "metadata": {
        "id": "LB-_A8xDRcD4"
      },
      "execution_count": 6,
      "outputs": []
    },
    {
      "cell_type": "code",
      "source": [
        "rf = RandomForestRegressor(random_state=42)\n",
        "\n",
        "param_grid = {\n",
        "    'n_estimators': [50, 100],\n",
        "    'max_depth': [None, 10, 20],\n",
        "    'min_samples_split': [2, 5]\n",
        "}\n",
        "\n",
        "grid = GridSearchCV(rf, param_grid, cv=5, scoring='neg_mean_squared_error', n_jobs=-1)\n",
        "grid.fit(X_train, y_train)\n",
        "\n",
        "best_rf = grid.best_estimator_"
      ],
      "metadata": {
        "id": "_y1bVlVeRrNx"
      },
      "execution_count": 7,
      "outputs": []
    },
    {
      "cell_type": "code",
      "source": [
        "y_pred_rf = best_rf.predict(X_test)\n",
        "\n",
        "print(\"Random Forest Regressor:\")\n",
        "print(\"MSE:\", mean_squared_error(y_test, y_pred_rf))\n",
        "print(\"MAE:\", mean_absolute_error(y_test, y_pred_rf))\n",
        "print(\"R2 Score:\", r2_score(y_test, y_pred_rf))"
      ],
      "metadata": {
        "colab": {
          "base_uri": "https://localhost:8080/"
        },
        "id": "XVLQdPIWR8lh",
        "outputId": "3414fbaa-8a8c-424f-e2ed-55fe073534d9"
      },
      "execution_count": 8,
      "outputs": [
        {
          "output_type": "stream",
          "name": "stdout",
          "text": [
            "Random Forest Regressor:\n",
            "MSE: 19492188916.588154\n",
            "MAE: 110978.32924839124\n",
            "R2 Score: 0.8309064606046426\n"
          ]
        }
      ]
    },
    {
      "cell_type": "code",
      "source": [
        "# Linear\n",
        "lr = LinearRegression()\n",
        "lr.fit(X_train, y_train)\n",
        "y_pred_lr = lr.predict(X_test)\n",
        "\n",
        "# Ridge\n",
        "ridge = Ridge(alpha=1.0)\n",
        "ridge.fit(X_train, y_train)\n",
        "y_pred_ridge = ridge.predict(X_test)\n",
        "\n",
        "# Lasso\n",
        "lasso = Lasso(alpha=1.0)\n",
        "lasso.fit(X_train, y_train)\n",
        "y_pred_lasso = lasso.predict(X_test)"
      ],
      "metadata": {
        "id": "Mq7h96NRSMwn"
      },
      "execution_count": 9,
      "outputs": []
    },
    {
      "cell_type": "code",
      "source": [
        "def print_metrics(name, y_true, y_pred):\n",
        "    print(f\"{name}:\\nMSE: {mean_squared_error(y_true, y_pred):.2f}, MAE: {mean_absolute_error(y_true, y_pred):.2f}, R2: {r2_score(y_true, y_pred):.4f}\\n\")\n",
        "\n",
        "print_metrics(\"Linear Regression\", y_test, y_pred_lr)\n",
        "print_metrics(\"Ridge Regression\", y_test, y_pred_ridge)\n",
        "print_metrics(\"Lasso Regression\", y_test, y_pred_lasso)\n",
        "print_metrics(\"Random Forest\", y_test, y_pred_rf)"
      ],
      "metadata": {
        "colab": {
          "base_uri": "https://localhost:8080/"
        },
        "id": "-CiD-26kShVn",
        "outputId": "8875d0a9-54cf-4a24-c2e9-6b881d4c7449"
      },
      "execution_count": 10,
      "outputs": [
        {
          "output_type": "stream",
          "name": "stdout",
          "text": [
            "Linear Regression:\n",
            "MSE: 14519364497.01, MAE: 97559.46, R2: 0.8740\n",
            "\n",
            "Ridge Regression:\n",
            "MSE: 14519480916.13, MAE: 97562.33, R2: 0.8740\n",
            "\n",
            "Lasso Regression:\n",
            "MSE: 14519362768.63, MAE: 97559.50, R2: 0.8740\n",
            "\n",
            "Random Forest:\n",
            "MSE: 19492188916.59, MAE: 110978.33, R2: 0.8309\n",
            "\n"
          ]
        }
      ]
    }
  ]
}